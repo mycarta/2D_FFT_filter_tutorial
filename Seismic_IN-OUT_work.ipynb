{
 "cells": [
  {
   "cell_type": "code",
   "execution_count": 1,
   "metadata": {},
   "outputs": [],
   "source": [
    "import numpy as np\n",
    "import scipy as sp\n",
    "import segyio"
   ]
  },
  {
   "cell_type": "markdown",
   "metadata": {},
   "source": [
    "### Loading Penobscot 3D\n",
    "\n",
    "The [Penobscot 3D](https://terranubis.com/datainfo/Penobscot), which is available under a [CC BY-SA license](https://creativecommons.org/licenses/by-sa/3.0/)."
   ]
  },
  {
   "cell_type": "markdown",
   "metadata": {},
   "source": [
    "#### Import the seismic data and run some tests"
   ]
  },
  {
   "cell_type": "code",
   "execution_count": 2,
   "metadata": {},
   "outputs": [],
   "source": [
    "filename = 'images and data/IL_1080-1540_XL_1020-1460_TWT_900-1200.sgy'"
   ]
  },
  {
   "cell_type": "code",
   "execution_count": 3,
   "metadata": {},
   "outputs": [],
   "source": [
    "with segyio.open(filename) as p:\n",
    "    penobscot = segyio.cube(p)"
   ]
  },
  {
   "cell_type": "code",
   "execution_count": 4,
   "metadata": {},
   "outputs": [
    {
     "name": "stdout",
     "output_type": "stream",
     "text": [
      "Is inline the fast mode? True\n"
     ]
    }
   ],
   "source": [
    "print('Is inline the fast mode? ' + str(p.fast is p.iline))"
   ]
  },
  {
   "cell_type": "code",
   "execution_count": 5,
   "metadata": {},
   "outputs": [
    {
     "data": {
      "text/plain": [
       "(461, 441, 76)"
      ]
     },
     "execution_count": 5,
     "metadata": {},
     "output_type": "execute_result"
    }
   ],
   "source": [
    "np.shape(penobscot)"
   ]
  },
  {
   "cell_type": "code",
   "execution_count": 6,
   "metadata": {},
   "outputs": [
    {
     "name": "stdout",
     "output_type": "stream",
     "text": [
      "0 460\n",
      "1080 1540\n"
     ]
    }
   ],
   "source": [
    "dim = np.shape(penobscot)\n",
    "idx = np.arange(0, dim[0])\n",
    "print(np.amin(idx), np.amax(idx))\n",
    "\n",
    "lns = np.arange(np.amin(p.ilines), np.amax(p.ilines)+1)\n",
    "print(np.amin(lns), np.amax(lns))"
   ]
  },
  {
   "cell_type": "code",
   "execution_count": 7,
   "metadata": {},
   "outputs": [
    {
     "name": "stdout",
     "output_type": "stream",
     "text": [
      "76\n"
     ]
    }
   ],
   "source": [
    "print(np.shape(p.samples)[0])"
   ]
  },
  {
   "cell_type": "code",
   "execution_count": 8,
   "metadata": {},
   "outputs": [
    {
     "data": {
      "text/plain": [
       "array([ 900.,  904.,  908.,  912.,  916.,  920.,  924.,  928.,  932.,\n",
       "        936.,  940.,  944.,  948.,  952.,  956.,  960.,  964.,  968.,\n",
       "        972.,  976.,  980.,  984.,  988.,  992.,  996., 1000., 1004.,\n",
       "       1008., 1012., 1016., 1020., 1024., 1028., 1032., 1036., 1040.,\n",
       "       1044., 1048., 1052., 1056., 1060., 1064., 1068., 1072., 1076.,\n",
       "       1080., 1084., 1088., 1092., 1096., 1100., 1104., 1108., 1112.,\n",
       "       1116., 1120., 1124., 1128., 1132., 1136., 1140., 1144., 1148.,\n",
       "       1152., 1156., 1160., 1164., 1168., 1172., 1176., 1180., 1184.,\n",
       "       1188., 1192., 1196., 1200.])"
      ]
     },
     "execution_count": 8,
     "metadata": {},
     "output_type": "execute_result"
    }
   ],
   "source": [
    "p.samples"
   ]
  },
  {
   "cell_type": "markdown",
   "metadata": {},
   "source": [
    "### Export to npy file"
   ]
  },
  {
   "cell_type": "code",
   "execution_count": 9,
   "metadata": {},
   "outputs": [],
   "source": [
    "np.save('images and data/samples.npy', p.samples)"
   ]
  },
  {
   "cell_type": "code",
   "execution_count": 10,
   "metadata": {},
   "outputs": [],
   "source": [
    "np.save('images and data/penobscot.npy', penobscot)"
   ]
  }
 ],
 "metadata": {
  "anaconda-cloud": {},
  "kernelspec": {
   "display_name": "py36",
   "language": "python",
   "name": "conda-env-py36-py"
  },
  "language_info": {
   "codemirror_mode": {
    "name": "ipython",
    "version": 3
   },
   "file_extension": ".py",
   "mimetype": "text/x-python",
   "name": "python",
   "nbconvert_exporter": "python",
   "pygments_lexer": "ipython3",
   "version": "3.6.8"
  }
 },
 "nbformat": 4,
 "nbformat_minor": 2
}
