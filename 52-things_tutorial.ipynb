{
 "cells": [
  {
   "cell_type": "markdown",
   "metadata": {},
   "source": [
    "### Background and history\n",
    "*COMING SOON*"
   ]
  },
  {
   "cell_type": "markdown",
   "metadata": {},
   "source": [
    "### Justification\n",
    "*COMING SOON*"
   ]
  },
  {
   "cell_type": "markdown",
   "metadata": {},
   "source": [
    "### Suggested reading (prior to running the tutorial \n",
    "*COMING SOON*"
   ]
  },
  {
   "cell_type": "markdown",
   "metadata": {},
   "source": [
    "### Objectives\n",
    "*COMING SOON*"
   ]
  },
  {
   "cell_type": "markdown",
   "metadata": {},
   "source": [
    "### Workflow\n",
    "\n",
    "*COMING SOON*"
   ]
  },
  {
   "cell_type": "markdown",
   "metadata": {},
   "source": [
    "### Import all necessary packages"
   ]
  },
  {
   "cell_type": "code",
   "execution_count": 1,
   "metadata": {
    "collapsed": true,
    "slideshow": {
     "slide_type": "slide"
    }
   },
   "outputs": [
    {
     "ename": "ModuleNotFoundError",
     "evalue": "No module named 'kneed'",
     "output_type": "error",
     "traceback": [
      "\u001b[0;31m---------------------------------------------------------------------------\u001b[0m",
      "\u001b[0;31mModuleNotFoundError\u001b[0m                       Traceback (most recent call last)",
      "\u001b[0;32m<ipython-input-1-bdaad9d636b9>\u001b[0m in \u001b[0;36m<module>\u001b[0;34m\u001b[0m\n\u001b[1;32m      4\u001b[0m \u001b[0;32mfrom\u001b[0m \u001b[0mscipy\u001b[0m \u001b[0;32mimport\u001b[0m \u001b[0msignal\u001b[0m\u001b[0;34m\u001b[0m\u001b[0;34m\u001b[0m\u001b[0m\n\u001b[1;32m      5\u001b[0m \u001b[0;32mfrom\u001b[0m \u001b[0mnumpy\u001b[0m\u001b[0;34m.\u001b[0m\u001b[0mfft\u001b[0m \u001b[0;32mimport\u001b[0m \u001b[0mfft2\u001b[0m\u001b[0;34m,\u001b[0m \u001b[0mifft2\u001b[0m\u001b[0;34m,\u001b[0m \u001b[0mfftshift\u001b[0m\u001b[0;34m,\u001b[0m \u001b[0mifftshift\u001b[0m\u001b[0;34m\u001b[0m\u001b[0;34m\u001b[0m\u001b[0m\n\u001b[0;32m----> 6\u001b[0;31m \u001b[0;32mfrom\u001b[0m \u001b[0mkneed\u001b[0m \u001b[0;32mimport\u001b[0m \u001b[0mKneeLocator\u001b[0m\u001b[0;34m\u001b[0m\u001b[0;34m\u001b[0m\u001b[0m\n\u001b[0m\u001b[1;32m      7\u001b[0m \u001b[0;32mfrom\u001b[0m \u001b[0mskimage\u001b[0m \u001b[0;32mimport\u001b[0m \u001b[0mio\u001b[0m\u001b[0;34m\u001b[0m\u001b[0;34m\u001b[0m\u001b[0m\n\u001b[1;32m      8\u001b[0m \u001b[0;32mfrom\u001b[0m \u001b[0mskimage\u001b[0m\u001b[0;34m.\u001b[0m\u001b[0mutil\u001b[0m \u001b[0;32mimport\u001b[0m \u001b[0mimg_as_float\u001b[0m\u001b[0;34m\u001b[0m\u001b[0;34m\u001b[0m\u001b[0m\n",
      "\u001b[0;31mModuleNotFoundError\u001b[0m: No module named 'kneed'"
     ]
    }
   ],
   "source": [
    "import numpy as np\n",
    "import scipy as sp\n",
    "from scipy import ndimage as ndi\n",
    "from scipy import signal\n",
    "from numpy.fft import fft2, ifft2, fftshift, ifftshift\n",
    "from kneed import KneeLocator\n",
    "from skimage import io\n",
    "from skimage.util import img_as_float\n",
    "from skimage.filters import gaussian\n",
    "from skimage.color import rgb2gray, label2rgb\n",
    "from skimage.feature import peak_local_max, canny\n",
    "from skimage.restoration import denoise_tv_chambolle\n",
    "from skimage.draw import  circle, circle_perimeter\n",
    "import skimage.morphology as morph\n",
    "from skimage.measure import label, compare_ssim\n",
    "import skimage.exposure as skie\n",
    "import matplotlib.pyplot as plt\n",
    "import matplotlib.colors as clr\n",
    "from skimage.draw import ellipse\n",
    "from skimage.transform import rotate"
   ]
  },
  {
   "cell_type": "markdown",
   "metadata": {},
   "source": [
    "### Load some test data: import King Tut CT scan image\n",
    "\n",
    "Source: Supreme Council of Antiquities,  guardians.net/hawass/press_release_tutankhamun_ct_scan_results.htm"
   ]
  },
  {
   "cell_type": "markdown",
   "metadata": {},
   "source": [
    "##### Function to normalize arrays to [0 1] range"
   ]
  },
  {
   "cell_type": "code",
   "execution_count": null,
   "metadata": {},
   "outputs": [],
   "source": [
    "def normalise(arr):\n",
    "    return (arr-np.amin(arr))/(np.amax(arr)-np.amin(arr))"
   ]
  },
  {
   "cell_type": "code",
   "execution_count": null,
   "metadata": {
    "collapsed": true
   },
   "outputs": [],
   "source": [
    "data = normalise(rgb2gray(io.imread('tut.jpg')))\n",
    "print(np.shape(data), np.amin(data), np.amax(data))"
   ]
  },
  {
   "cell_type": "markdown",
   "metadata": {},
   "source": [
    "##### Add some blur"
   ]
  },
  {
   "cell_type": "code",
   "execution_count": null,
   "metadata": {},
   "outputs": [],
   "source": [
    "data=gaussian(data, 1)"
   ]
  },
  {
   "cell_type": "code",
   "execution_count": null,
   "metadata": {},
   "outputs": [],
   "source": [
    "plt.figure(figsize=(15,12))\n",
    "plt.imshow(data, cmap='bone'), plt.axis('off'); "
   ]
  },
  {
   "cell_type": "markdown",
   "metadata": {},
   "source": [
    "##### All-in-one function to perform Fourier transform, get magnitude, center on low frequency (for display purposes)"
   ]
  },
  {
   "cell_type": "code",
   "execution_count": null,
   "metadata": {},
   "outputs": [],
   "source": [
    "def numpy_fft2(im):\n",
    "    F = np.fft.fft2(im)     # Perform 2-dimensional discrete Fourier transform \n",
    "    C = np.fft.fftshift(F)  # Center spectrum on minimum frequency\n",
    "    Mag = np.abs(C).real    # Get magnitude and phase\n",
    "    Ph  = np.angle(C).real    \n",
    "    return Mag, Ph"
   ]
  },
  {
   "cell_type": "code",
   "execution_count": null,
   "metadata": {},
   "outputs": [],
   "source": [
    "A, _ = numpy_fft2(data)"
   ]
  },
  {
   "cell_type": "code",
   "execution_count": null,
   "metadata": {
    "collapsed": true
   },
   "outputs": [],
   "source": [
    "Ag = denoise_tv_chambolle(np.log(A +1), weight=0.2)  \n",
    "lg = np.log(A +1)"
   ]
  },
  {
   "cell_type": "code",
   "execution_count": null,
   "metadata": {},
   "outputs": [],
   "source": [
    "plt.figure(figsize=(12, 12))\n",
    "plt.imshow(lg,  cmap='cubehelix', interpolation = 'none'), plt.axis('off');"
   ]
  },
  {
   "cell_type": "markdown",
   "metadata": {},
   "source": [
    "#### Get azimuthally averaged radial profile"
   ]
  },
  {
   "cell_type": "markdown",
   "metadata": {},
   "source": [
    "To show that the data \"lives\" in the lowest frequencies.\n",
    "\n",
    "Radial mean code adapted from [SciPy lectures](http://scipy-lectures.org/advanced/image_processing/#measuring-objects-properties-ndimage-measurements) (his method, compared to other ones tested, works better in that I can set the number of bins to be same as the size of the input image).\n",
    "\n",
    "Automatic knee-point detection with the [Kneedle algorithm](https://raghavan.usc.edu//papers/kneedle-simplex11.pdf) using the [Kneed package](https://github.com/arvkevi/kneed)."
   ]
  },
  {
   "cell_type": "code",
   "execution_count": null,
   "metadata": {},
   "outputs": [],
   "source": [
    "sx, sy = Ag.shape\n",
    "X, Y = np.ogrid[0:sx, 0:sy]\n",
    "r = np.hypot(X - sx/2, Y - sy/2)\n",
    "rbin = (502* r/r.max()).astype(np.int)\n",
    "with np.errstate(invalid='ignore'):\n",
    "    radial_mean = ndi.mean(Ag**2, labels=rbin, index=np.arange(1, rbin.max() +1))\n",
    "radial_mean = radial_mean[~np.isnan(radial_mean)]"
   ]
  },
  {
   "cell_type": "code",
   "execution_count": null,
   "metadata": {},
   "outputs": [],
   "source": [
    "fig, ax = plt.subplots(figsize=(12, 12))\n",
    "plt.plot(radial_mean, 'b')\n",
    "ax.set_xlabel('Pixels', fontsize=14)\n",
    "ax.set_ylabel('Power spectrum', fontsize=14)\n",
    "ax.grid(which='both')"
   ]
  },
  {
   "cell_type": "code",
   "execution_count": null,
   "metadata": {},
   "outputs": [],
   "source": [
    "kl = KneeLocator(np.arange(0,len(radial_mean)), radial_mean, curve='convex', direction='decreasing',  online=True)\n",
    "print(kl.knee)"
   ]
  },
  {
   "cell_type": "code",
   "execution_count": null,
   "metadata": {},
   "outputs": [],
   "source": [
    "kl.plot_knee_normalized()\n",
    "fig = plt.gcf()\n",
    "fig.set_size_inches(12,12)\n",
    "#plt.gca().invert_yaxis()\n",
    "plt.grid(which='both')"
   ]
  },
  {
   "cell_type": "code",
   "execution_count": null,
   "metadata": {},
   "outputs": [],
   "source": [
    "radius = int(kl.knee/2)\n",
    "rr, cc = circle_perimeter(np.shape(Ag)[0]//2, np.shape(Ag)[0]//2, radius)\n",
    "lg[rr, cc] = np.amax(lg)"
   ]
  },
  {
   "cell_type": "code",
   "execution_count": null,
   "metadata": {},
   "outputs": [],
   "source": [
    "plt.figure(figsize=(12, 12))\n",
    "plt.imshow(lg,  cmap='cubehelix', interpolation = 'none'), plt.axis('off');"
   ]
  },
  {
   "cell_type": "markdown",
   "metadata": {},
   "source": [
    "### Preliminary examples of 2D Fourier Transform of straight lines and sinusoids"
   ]
  },
  {
   "cell_type": "markdown",
   "metadata": {},
   "source": [
    "##### How does the Fourier spectrum of a vertical line looks like?\n",
    "\n",
    "Reference blog post from Steve Eddins (Mathworks): [\"Fourier transforms, vertical lines, and horizontal lines\"](https://blogs.mathworks.com/steve/2010/09/22/fourier-transforms-vertical-lines-and-horizontal-lines/)\n",
    "\n",
    "Further reading: [\"An Intuitive Explanation of Fourier Theory\"](http://cns-alumni.bu.edu/~slehar/fourier/fourier.html)"
   ]
  },
  {
   "cell_type": "code",
   "execution_count": null,
   "metadata": {},
   "outputs": [],
   "source": [
    "vline = np.zeros((201,201))\n",
    "vline[:,100]=1\n",
    "plt.figure(figsize=(12,12))\n",
    "plt.imshow(vline, cmap='gray', interpolation = 'none'), plt.axis('off');"
   ]
  },
  {
   "cell_type": "code",
   "execution_count": null,
   "metadata": {},
   "outputs": [],
   "source": [
    "A, _ = numpy_fft2(vline)"
   ]
  },
  {
   "cell_type": "code",
   "execution_count": null,
   "metadata": {},
   "outputs": [],
   "source": [
    "plt.figure(figsize=(12, 12))\n",
    "plt.imshow(np.log(A +1),  cmap='cubehelix', interpolation = 'none'), plt.axis('off');"
   ]
  },
  {
   "cell_type": "markdown",
   "metadata": {},
   "source": [
    "##### Next, how does the Fourier spectrum of a 2D vertical cosine wave look like?"
   ]
  },
  {
   "cell_type": "markdown",
   "metadata": {},
   "source": [
    "##### Sample rate"
   ]
  },
  {
   "cell_type": "code",
   "execution_count": null,
   "metadata": {},
   "outputs": [],
   "source": [
    "f = 0.02"
   ]
  },
  {
   "cell_type": "code",
   "execution_count": null,
   "metadata": {},
   "outputs": [],
   "source": [
    "x = y = np.arange(400)  \n",
    "xx, yy = np.meshgrid(x, y)"
   ]
  },
  {
   "cell_type": "code",
   "execution_count": null,
   "metadata": {},
   "outputs": [],
   "source": [
    "vcos=normalise(np.cos(np.pi*15*f*xx))"
   ]
  },
  {
   "cell_type": "code",
   "execution_count": null,
   "metadata": {},
   "outputs": [],
   "source": [
    "plt.figure(figsize=(12,12))\n",
    "plt.imshow(vcos, cmap='gray', interpolation = 'none'), plt.axis('off'); "
   ]
  },
  {
   "cell_type": "code",
   "execution_count": null,
   "metadata": {},
   "outputs": [],
   "source": [
    "A, _ = numpy_fft2(vcos)"
   ]
  },
  {
   "cell_type": "code",
   "execution_count": null,
   "metadata": {},
   "outputs": [],
   "source": [
    "plt.figure(figsize=(12, 12))\n",
    "plt.imshow(np.log(A +1),  cmap='cubehelix', interpolation = 'none'), plt.axis('off');"
   ]
  },
  {
   "cell_type": "markdown",
   "metadata": {},
   "source": [
    "In the image above, the center dot is the DC point. The frequency of the cosine wave is represented by the distance of either of the other points to the DC point. The amplitude information is encoded in the intensity of the points."
   ]
  },
  {
   "cell_type": "markdown",
   "metadata": {},
   "source": [
    "##### One more thing. \n",
    "\n",
    "Since ultimately we want to be able to filter a signal by manipulating the spectrum, then inverse Fourier transform the signal, let's show that (as should be expected) there is no signal loss by taking an image through fft2 and back via ifft2."
   ]
  },
  {
   "cell_type": "markdown",
   "metadata": {},
   "source": [
    "##### Method 1, the `numpy` way\n",
    "     \n",
    "That is, `ifft2(fft2(arr)) == arr` [to within a reasonable numerical accuracy](https://docs.scipy.org/doc/numpy-1.14.0/reference/generated/numpy.fft.ifft2.html) "
   ]
  },
  {
   "cell_type": "code",
   "execution_count": null,
   "metadata": {},
   "outputs": [],
   "source": [
    "accuracy = 1e-12"
   ]
  },
  {
   "cell_type": "code",
   "execution_count": null,
   "metadata": {},
   "outputs": [],
   "source": [
    "print(np.allclose(vcos, ifft2(fft2(vcos)), accuracy, accuracy))\n",
    "\n",
    "print(np.allclose(ifft2(fft2(vcos)), vcos, accuracy, accuracy))"
   ]
  },
  {
   "cell_type": "markdown",
   "metadata": {},
   "source": [
    "##### Method 2, the `scikit-image` way\n",
    "\n",
    "Reference: [Structural similarity index](https://scikit-image.org/docs/0.12.x/auto_examples/transform/plot_ssim.html)"
   ]
  },
  {
   "cell_type": "code",
   "execution_count": null,
   "metadata": {},
   "outputs": [],
   "source": [
    "def mse(x, y):\n",
    "    return np.linalg.norm(x - y)"
   ]
  },
  {
   "cell_type": "code",
   "execution_count": null,
   "metadata": {},
   "outputs": [],
   "source": [
    "diff_mse = mse(vcos, ifft2(fft2(vcos)).real)"
   ]
  },
  {
   "cell_type": "code",
   "execution_count": null,
   "metadata": {},
   "outputs": [],
   "source": [
    "diff_ssim = compare_ssim(vcos, ifft2(fft2(vcos)).real)"
   ]
  },
  {
   "cell_type": "code",
   "execution_count": null,
   "metadata": {},
   "outputs": [],
   "source": [
    "diff = img_as_float(vcos - ifft2(fft2(vcos)).real)"
   ]
  },
  {
   "cell_type": "code",
   "execution_count": null,
   "metadata": {},
   "outputs": [],
   "source": [
    "print ('MSE: %.2E, SSIM: %.2f' % (diff_mse, diff_ssim))"
   ]
  },
  {
   "cell_type": "markdown",
   "metadata": {},
   "source": [
    "### Create synthetic acquisition footprint"
   ]
  },
  {
   "cell_type": "markdown",
   "metadata": {},
   "source": [
    "We will create a 2D acquisition footprint by combining two non-orthogonal sinusoids of different frequency."
   ]
  },
  {
   "cell_type": "markdown",
   "metadata": {},
   "source": [
    "##### First cosine wave"
   ]
  },
  {
   "cell_type": "code",
   "execution_count": null,
   "metadata": {},
   "outputs": [],
   "source": [
    "cswA=normalise(np.cos(-2*np.pi*0.5*f*xx+6*np.pi*0.5*f*yy))"
   ]
  },
  {
   "cell_type": "code",
   "execution_count": null,
   "metadata": {},
   "outputs": [],
   "source": [
    "plt.figure(figsize=(12,12))\n",
    "plt.imshow(cswA, cmap='gray', interpolation = 'none'), plt.axis('off'); "
   ]
  },
  {
   "cell_type": "code",
   "execution_count": null,
   "metadata": {},
   "outputs": [],
   "source": [
    "A, _ = numpy_fft2(cswA)"
   ]
  },
  {
   "cell_type": "code",
   "execution_count": null,
   "metadata": {},
   "outputs": [],
   "source": [
    "plt.figure(figsize=(12, 12))\n",
    "plt.imshow(np.log(A +1),  cmap='cubehelix', interpolation = 'none'), plt.axis('off');"
   ]
  },
  {
   "cell_type": "markdown",
   "metadata": {},
   "source": [
    "##### Second cosine wave"
   ]
  },
  {
   "cell_type": "code",
   "execution_count": null,
   "metadata": {},
   "outputs": [],
   "source": [
    "cswB=normalise(np.cos(-15*0.6*np.pi*f*xx+1*0.6*np.pi*f*yy))\n",
    "print(np.shape(cswB))"
   ]
  },
  {
   "cell_type": "code",
   "execution_count": null,
   "metadata": {},
   "outputs": [],
   "source": [
    "plt.figure(figsize=(12,12))\n",
    "plt.imshow(cswB, cmap='gray', interpolation = 'none'), plt.axis('off'); "
   ]
  },
  {
   "cell_type": "markdown",
   "metadata": {},
   "source": [
    "##### Combine the two cosine waves"
   ]
  },
  {
   "cell_type": "code",
   "execution_count": null,
   "metadata": {},
   "outputs": [],
   "source": [
    "temp = cswA + cswB"
   ]
  },
  {
   "cell_type": "code",
   "execution_count": null,
   "metadata": {},
   "outputs": [],
   "source": [
    "footprint = normalise(temp)\n",
    "np.shape(footprint)"
   ]
  },
  {
   "cell_type": "code",
   "execution_count": null,
   "metadata": {},
   "outputs": [],
   "source": [
    "plt.figure(figsize=(12,12))\n",
    "plt.imshow(footprint, cmap='gray', interpolation = 'none'), plt.axis('off'); "
   ]
  },
  {
   "cell_type": "markdown",
   "metadata": {},
   "source": [
    "##### Raised cosine function to taper the input _à la_ Steve Eddins, to help with DFT periodicity i artifacts"
   ]
  },
  {
   "cell_type": "markdown",
   "metadata": {},
   "source": [
    "Reference blog post: [_\"Fourier transform visualization using windowing\"_](https://blogs.mathworks.com/steve/2009/12/04/fourier-transform-visualization-using-windowing)"
   ]
  },
  {
   "cell_type": "code",
   "execution_count": null,
   "metadata": {
    "collapsed": true
   },
   "outputs": [],
   "source": [
    "def raised_cosine(im):\n",
    "    m, n = np.shape(im)\n",
    "    w1 = np.cos(np.linspace(-np.pi/2, np.pi/2, m))\n",
    "    w1 = w1[:, None] \n",
    "    w2 = np.cos(np.linspace(-np.pi/2, np.pi/2, n))\n",
    "    w = w1*w2\n",
    "    return normalise(im * w)"
   ]
  },
  {
   "cell_type": "code",
   "execution_count": null,
   "metadata": {},
   "outputs": [],
   "source": [
    "f = raised_cosine(footprint)"
   ]
  },
  {
   "cell_type": "code",
   "execution_count": null,
   "metadata": {},
   "outputs": [],
   "source": [
    "plt.figure(figsize=(12,12))\n",
    "plt.imshow(f, cmap='gray', interpolation = 'none'), plt.axis('off'); "
   ]
  },
  {
   "cell_type": "code",
   "execution_count": null,
   "metadata": {
    "scrolled": false
   },
   "outputs": [],
   "source": [
    "plt.figure(figsize=(12,12))\n",
    "plt.imshow(f, cmap='gray', interpolation = 'none'), plt.axis('off'); "
   ]
  },
  {
   "cell_type": "code",
   "execution_count": null,
   "metadata": {},
   "outputs": [],
   "source": [
    "print(np.amin(f), np.amax(f))"
   ]
  },
  {
   "cell_type": "code",
   "execution_count": null,
   "metadata": {},
   "outputs": [],
   "source": [
    "A, _ = numpy_fft2(f)"
   ]
  },
  {
   "cell_type": "code",
   "execution_count": null,
   "metadata": {},
   "outputs": [],
   "source": [
    "plt.figure(figsize=(12, 12))\n",
    "plt.imshow(np.log(A +1),  cmap='cubehelix', interpolation = 'none'), plt.axis('off');"
   ]
  },
  {
   "cell_type": "markdown",
   "metadata": {},
   "source": [
    "##### For comparison, this is the result if we do not use the tapering to remove artifacts"
   ]
  },
  {
   "cell_type": "code",
   "execution_count": null,
   "metadata": {},
   "outputs": [],
   "source": [
    "Au, _ = numpy_fft2(footprint)\n",
    "plt.figure(figsize=(12, 12))\n",
    "plt.imshow(np.log(Au +1),  cmap='cubehelix', interpolation = 'none'), plt.axis('off');"
   ]
  },
  {
   "cell_type": "markdown",
   "metadata": {},
   "source": [
    "Where do those vertical lines come from? SImilarly to what Steve showed in the blog post, now that we tiled the signal (simulating the Fourier transform's implicit periodicity) a horizontal edge effect becomes apparent."
   ]
  },
  {
   "cell_type": "code",
   "execution_count": null,
   "metadata": {},
   "outputs": [],
   "source": [
    "plt.figure(figsize=(12, 12))\n",
    "plt.imshow(np.tile(footprint, (2,2)),  cmap='gray', interpolation = 'none'), plt.axis('off');"
   ]
  },
  {
   "cell_type": "markdown",
   "metadata": {},
   "source": [
    "### Combine data to synthetic acquisition footprint"
   ]
  },
  {
   "cell_type": "code",
   "execution_count": null,
   "metadata": {},
   "outputs": [],
   "source": [
    "noisy = normalise(data.copy() + f*4)"
   ]
  },
  {
   "cell_type": "code",
   "execution_count": null,
   "metadata": {},
   "outputs": [],
   "source": [
    "plt.figure(figsize=(12,12))\n",
    "plt.imshow(noisy, cmap='bone'), plt.axis('off');"
   ]
  },
  {
   "cell_type": "code",
   "execution_count": null,
   "metadata": {},
   "outputs": [],
   "source": [
    "fkt = raised_cosine(noisy)"
   ]
  },
  {
   "cell_type": "code",
   "execution_count": null,
   "metadata": {},
   "outputs": [],
   "source": [
    "plt.figure(figsize=(12,12))\n",
    "plt.imshow(fkt, cmap='bone', interpolation = 'none'), plt.axis('off'); "
   ]
  },
  {
   "cell_type": "markdown",
   "metadata": {},
   "source": [
    "#### Check the spectrum"
   ]
  },
  {
   "cell_type": "code",
   "execution_count": null,
   "metadata": {},
   "outputs": [],
   "source": [
    "A, _ = numpy_fft2(fkt)"
   ]
  },
  {
   "cell_type": "code",
   "execution_count": null,
   "metadata": {},
   "outputs": [],
   "source": [
    "plt.figure(figsize=(12, 12))\n",
    "plt.imshow(np.log(A +1),  cmap='cubehelix', interpolation = 'none'), plt.axis('off');"
   ]
  },
  {
   "cell_type": "code",
   "execution_count": null,
   "metadata": {
    "collapsed": true
   },
   "outputs": [],
   "source": [
    "Ag = denoise_tv_chambolle(np.log(A +1), weight=0.2)  "
   ]
  },
  {
   "cell_type": "code",
   "execution_count": null,
   "metadata": {},
   "outputs": [],
   "source": [
    "plt.figure(figsize=(12, 12))\n",
    "plt.imshow(Ag,  cmap='cubehelix', interpolation = 'none'), plt.axis('off');"
   ]
  },
  {
   "cell_type": "markdown",
   "metadata": {},
   "source": [
    "### Filter out the footprint\n",
    "\n",
    "\n",
    "##### Find local maxima in Fourier Transform image using Scikit-image \n",
    "\n",
    "https://scikit-image.org/docs/dev/auto_examples/segmentation/plot_peak_local_max.html"
   ]
  },
  {
   "cell_type": "code",
   "execution_count": null,
   "metadata": {},
   "outputs": [],
   "source": [
    "fp = morph.disk(5)"
   ]
  },
  {
   "cell_type": "code",
   "execution_count": null,
   "metadata": {},
   "outputs": [],
   "source": [
    "image_max = ndi.maximum_filter(Ag, footprint = fp, mode='constant')\n",
    "coordinates= peak_local_max(Ag, min_distance=5, num_peaks=5)\n",
    "coordinates_center = peak_local_max(Ag, min_distance=10, num_peaks=1)"
   ]
  },
  {
   "cell_type": "code",
   "execution_count": null,
   "metadata": {},
   "outputs": [],
   "source": [
    "# display results\n",
    "fig, axes = plt.subplots(2, 2, figsize=(24, 24), sharex=True, sharey=True)\n",
    "ax = axes.ravel()\n",
    "ax[0].imshow(Ag, cmap='gray')\n",
    "ax[0].axis('off')\n",
    "ax[0].set_title('Original')\n",
    "\n",
    "ax[1].imshow(image_max, cmap='gray')\n",
    "ax[1].axis('off')\n",
    "ax[1].set_title('Maximum filter')\n",
    "\n",
    "ax[2].imshow(Ag, cmap='gray')\n",
    "ax[2].autoscale(False)\n",
    "ax[2].plot(coordinates_center[:, 1], coordinates_center[:, 0], 'mo')\n",
    "ax[2].axis('off')\n",
    "ax[2].set_title('Peak 1 local maximum')\n",
    "\n",
    "ax[3].imshow(Ag, cmap='gray')\n",
    "ax[3].autoscale(False)\n",
    "ax[3].plot(coordinates[:, 1], coordinates[:, 0], 'mo')\n",
    "ax[3].axis('off')\n",
    "ax[3].set_title('Peak 5 local maxima')\n",
    "\n",
    "fig.tight_layout()\n",
    "\n",
    "plt.show()\n"
   ]
  },
  {
   "cell_type": "markdown",
   "metadata": {},
   "source": [
    "##### Maximum filter also returns an image directly! Let's take advantage of that:"
   ]
  },
  {
   "cell_type": "code",
   "execution_count": null,
   "metadata": {},
   "outputs": [],
   "source": [
    "fttt2_im = peak_local_max(Ag, min_distance=10, num_peaks=5, indices = False)*1"
   ]
  },
  {
   "cell_type": "code",
   "execution_count": null,
   "metadata": {},
   "outputs": [],
   "source": [
    "plt.figure(figsize=(12, 12))\n",
    "plt.imshow(fttt2_im,  \n",
    "           cmap='gray', interpolation = 'none'), plt.axis('off');"
   ]
  },
  {
   "cell_type": "code",
   "execution_count": null,
   "metadata": {},
   "outputs": [],
   "source": [
    "fttt2_im_center = peak_local_max(Ag, min_distance=10, num_peaks=1, indices = False)*1\n",
    "fttt2_im_no_center = fttt2_im - fttt2_im_center "
   ]
  },
  {
   "cell_type": "code",
   "execution_count": null,
   "metadata": {},
   "outputs": [],
   "source": [
    "plt.figure(figsize=(12, 12))\n",
    "plt.imshow(fttt2_im_no_center,  \n",
    "           cmap='gray', interpolation = 'none'), plt.axis('off');"
   ]
  },
  {
   "cell_type": "code",
   "execution_count": null,
   "metadata": {},
   "outputs": [],
   "source": [
    "np.save('fttt2_im_no_center.npy', fttt2_im_no_center)"
   ]
  },
  {
   "cell_type": "markdown",
   "metadata": {},
   "source": [
    "##### Design footprint suppression filter by convolution with Gaussian disk "
   ]
  },
  {
   "cell_type": "code",
   "execution_count": null,
   "metadata": {},
   "outputs": [],
   "source": [
    "def scipy_gaussian_2D(std):\n",
    "    '''\n",
    "    2D Gaussian filter kernel similar to astropy\\'s Gaussian2DKernel\n",
    "    (https://docs.astropy.org/en/stable/api/astropy.convolution.Gaussian2DKernel.html#astropy.convolution.Gaussian2DKernel)\n",
    "    using scipy.signal.gaussian \n",
    "    (and inspired by https://gist.github.com/thomasaarholt/267ec4fff40ca9dff1106490ea3b7567)\n",
    "    \n",
    "    Parameters: \n",
    "    std (int) : standard deviation of the Gaussian in pixels\n",
    "    \n",
    "    Returns:\n",
    "    out (2D array): 2D Gaussian filter kernel\n",
    "    '''\n",
    "    ksp1D = signal.gaussian(std*8+1, std)\n",
    "    ksp2D = np.outer(ksp1D, ksp1D)\n",
    "    ksp2D /= (2*np.pi*(std**2))\n",
    "    return ksp2D"
   ]
  },
  {
   "cell_type": "code",
   "execution_count": null,
   "metadata": {},
   "outputs": [],
   "source": [
    "gauss_kernel = scipy_gaussian_2D(2)\n",
    "filter0 = signal.fftconvolve(fttt2_im_no_center, gauss_kernel,  mode='same')"
   ]
  },
  {
   "cell_type": "code",
   "execution_count": null,
   "metadata": {},
   "outputs": [],
   "source": [
    "plt.figure(figsize=(12, 12))\n",
    "plt.imshow(filter0, cmap='cubehelix', interpolation = 'none'), plt.axis('off');"
   ]
  },
  {
   "cell_type": "code",
   "execution_count": null,
   "metadata": {},
   "outputs": [],
   "source": [
    "plt.figure(figsize=(12, 12))\n",
    "plt.imshow(1-filter0, cmap='gray', interpolation = 'none'), plt.axis('off');"
   ]
  },
  {
   "cell_type": "code",
   "execution_count": null,
   "metadata": {},
   "outputs": [],
   "source": [
    "print(np.amin(filter0), np.amax(filter0))"
   ]
  },
  {
   "cell_type": "code",
   "execution_count": null,
   "metadata": {},
   "outputs": [],
   "source": [
    "filter0=normalise(filter0)"
   ]
  },
  {
   "cell_type": "markdown",
   "metadata": {},
   "source": [
    "##### Show why a gaussian kernel filter is better than a disk notch filter"
   ]
  },
  {
   "cell_type": "code",
   "execution_count": null,
   "metadata": {},
   "outputs": [],
   "source": [
    "c1 = np.zeros((500, 500, 3), 'float')\n",
    "rr, cc = circle(250, 250, 15, c1.shape)\n",
    "c1[rr,cc] = (1.)\n",
    "c1=rgb2gray(c1)"
   ]
  },
  {
   "cell_type": "code",
   "execution_count": null,
   "metadata": {},
   "outputs": [],
   "source": [
    "plt.figure(figsize=(12, 12))\n",
    "plt.imshow(c1, cmap='gray', interpolation = 'none'), plt.axis('off');"
   ]
  },
  {
   "cell_type": "code",
   "execution_count": null,
   "metadata": {},
   "outputs": [],
   "source": [
    "plt.figure(figsize=(12, 12))\n",
    "plt.imshow(fftshift(ifft2(ifftshift(c1))).real, cmap='gray', interpolation = 'none'), plt.axis('off');"
   ]
  },
  {
   "cell_type": "code",
   "execution_count": null,
   "metadata": {},
   "outputs": [],
   "source": [
    "c2 = signal.fftconvolve(c1, scipy_gaussian_2D(7),  mode='same')"
   ]
  },
  {
   "cell_type": "code",
   "execution_count": null,
   "metadata": {},
   "outputs": [],
   "source": [
    "plt.figure(figsize=(12, 12))\n",
    "plt.imshow(c2, cmap='gray', interpolation = 'none'), plt.axis('off');"
   ]
  },
  {
   "cell_type": "code",
   "execution_count": null,
   "metadata": {},
   "outputs": [],
   "source": [
    "plt.figure(figsize=(12, 12))\n",
    "plt.imshow(fftshift(ifft2(ifftshift(c2))).real, cmap='gray', interpolation = 'none'), plt.axis('off');"
   ]
  },
  {
   "cell_type": "markdown",
   "metadata": {},
   "source": [
    "##### Apply filter and check reconstructed cat scan image"
   ]
  },
  {
   "cell_type": "code",
   "execution_count": null,
   "metadata": {},
   "outputs": [],
   "source": [
    "filtered = ifft2(np.multiply(ifftshift(1-filter0), fft2(data.copy()))).real"
   ]
  },
  {
   "cell_type": "code",
   "execution_count": null,
   "metadata": {},
   "outputs": [],
   "source": [
    "plt.figure(figsize=(12, 12))\n",
    "plt.imshow(filtered, cmap='gray', interpolation = 'none'), plt.axis('off');"
   ]
  },
  {
   "cell_type": "markdown",
   "metadata": {},
   "source": [
    "##### Check effect of filtering on Canny edge effectiveness"
   ]
  },
  {
   "cell_type": "code",
   "execution_count": null,
   "metadata": {},
   "outputs": [],
   "source": [
    "def auto_canny(img, sigma = 0.33):\n",
    "    \"\"\"Zero-parameter, automatic Canny edge detection using scikit-image.\n",
    "    Original function from pyimagesearch: Zero-parameter, automatic Canny edge with with Python and OpenCV\n",
    "    www.pyimagesearch.com/2015/04/06/zero-parameter-automatic-canny-edge-detection-with-python-and-opencv\"\"\"\n",
    "        \n",
    "    # compute the median of the single channel pixel intensities\n",
    "    v = np.median(img)\n",
    " \n",
    "    # apply automatic Canny edge detection using the computed median\n",
    "    lower = float(max(0.0, (1.0 - sigma) * v))\n",
    "    upper = float(min(1.0, (1.0 + sigma) * v))\n",
    "    edged = canny(img, sigma, lower, upper)\n",
    "\n",
    "    # return the edged image\n",
    "    return edged"
   ]
  },
  {
   "cell_type": "code",
   "execution_count": null,
   "metadata": {},
   "outputs": [],
   "source": [
    "Cn = auto_canny(noisy)"
   ]
  },
  {
   "cell_type": "code",
   "execution_count": null,
   "metadata": {},
   "outputs": [],
   "source": [
    "Cdn = auto_canny(filtered)"
   ]
  },
  {
   "cell_type": "code",
   "execution_count": null,
   "metadata": {},
   "outputs": [],
   "source": [
    "plt.figure(figsize=(12, 12))\n",
    "plt.imshow(Cn, cmap='gray_r', interpolation = 'none'), plt.axis('off');"
   ]
  },
  {
   "cell_type": "code",
   "execution_count": null,
   "metadata": {},
   "outputs": [],
   "source": [
    "plt.figure(figsize=(12, 12))\n",
    "plt.imshow(Cdn, cmap='gray_r', interpolation = 'none'), plt.axis('off');"
   ]
  },
  {
   "cell_type": "markdown",
   "metadata": {},
   "source": [
    "##### Check effect of filtering on sobel filters effectiveness (1D and 2D)"
   ]
  },
  {
   "cell_type": "code",
   "execution_count": null,
   "metadata": {},
   "outputs": [],
   "source": [
    "Snh = ndi.sobel(noisy,0)\n",
    "Sdnh = ndi.sobel(filtered,0)"
   ]
  },
  {
   "cell_type": "code",
   "execution_count": null,
   "metadata": {},
   "outputs": [],
   "source": [
    "plt.figure(figsize=(12, 12))\n",
    "plt.imshow(Snh, cmap='gray_r', interpolation = 'none'), plt.axis('off');"
   ]
  },
  {
   "cell_type": "code",
   "execution_count": null,
   "metadata": {},
   "outputs": [],
   "source": [
    "plt.figure(figsize=(12, 12))\n",
    "plt.imshow(Sdnh, cmap='gray_r', interpolation = 'none'), plt.axis('off');"
   ]
  },
  {
   "cell_type": "code",
   "execution_count": null,
   "metadata": {},
   "outputs": [],
   "source": [
    "Snv = ndi.sobel(noisy,1)\n",
    "Sdnv = ndi.sobel(filtered,1)"
   ]
  },
  {
   "cell_type": "code",
   "execution_count": null,
   "metadata": {},
   "outputs": [],
   "source": [
    "plt.figure(figsize=(12, 12))\n",
    "plt.imshow(Snv, cmap='gray_r', interpolation = 'none'), plt.axis('off');"
   ]
  },
  {
   "cell_type": "code",
   "execution_count": null,
   "metadata": {},
   "outputs": [],
   "source": [
    "plt.figure(figsize=(12, 12))\n",
    "plt.imshow(Sdnv, cmap='gray_r', interpolation = 'none'), plt.axis('off');"
   ]
  },
  {
   "cell_type": "code",
   "execution_count": null,
   "metadata": {},
   "outputs": [],
   "source": [
    "def Sobel_2d(im):\n",
    "    '''2D Sobel filter'''\n",
    "    dx = ndi.sobel(data, 0)  # horizontal derivative\n",
    "    dy = ndi.sobel(data, 1)  # vertical derivative\n",
    "    mag = np.hypot(dx, dy)      # magnitude\n",
    "    mag *= 255.0 / np.max(mag)  # normalize\n",
    "    return mag"
   ]
  },
  {
   "cell_type": "code",
   "execution_count": null,
   "metadata": {},
   "outputs": [],
   "source": [
    "Sn2 = Sobel_2d(noisy)"
   ]
  },
  {
   "cell_type": "code",
   "execution_count": null,
   "metadata": {},
   "outputs": [],
   "source": [
    "Sdn2 = Sobel_2d(filtered)"
   ]
  },
  {
   "cell_type": "code",
   "execution_count": null,
   "metadata": {},
   "outputs": [],
   "source": [
    "plt.figure(figsize=(12, 12))\n",
    "plt.imshow(Sn2, cmap='gray_r', interpolation = 'none'), plt.axis('off');"
   ]
  },
  {
   "cell_type": "code",
   "execution_count": null,
   "metadata": {},
   "outputs": [],
   "source": [
    "plt.figure(figsize=(12, 12))\n",
    "plt.imshow(Sdn2, cmap='gray_r', interpolation = 'none'), plt.axis('off');"
   ]
  },
  {
   "cell_type": "markdown",
   "metadata": {},
   "source": [
    "### Some real seismic data now"
   ]
  },
  {
   "cell_type": "markdown",
   "metadata": {},
   "source": [
    "##### Function to pad input to a square NxN array. Not necessary in this case because images are square to begin with."
   ]
  },
  {
   "cell_type": "code",
   "execution_count": null,
   "metadata": {},
   "outputs": [],
   "source": [
    "def pad_next_square_size(im):\n",
    "    \"\"\"Function to pad a rectangualr image to a square image.\n",
    "    Parameters:\n",
    "    im (2D array): input grayscale image\n",
    "    \n",
    "    Returns:\n",
    "    out (2D array): padded input image\n",
    "    padding (slice object): a slice object that can be used later on to unpad\n",
    "    \n",
    "    Example:\n",
    "    out, padding = pad_next_square_size(im)\n",
    "    \"\"\"\n",
    "    m, n = np.shape(im) # get input shape\n",
    "    deficit = max([m,n])- min([m,n])  # get deficit between size lengths\n",
    "\n",
    "    # difference in dimensions is even, pad both sides of short dimension by deficit//2\n",
    "    if deficit%2 == 0: \n",
    "        deficit1 = deficit//2\n",
    "        deficit2 = deficit//2\n",
    "    \n",
    "    # difference in dimensions is odd, pad one side by deficit//2 +1\n",
    "    else:\n",
    "        deficit1 = deficit//2\n",
    "        deficit2 = deficit1+1\n",
    "        \n",
    "    if m > n:\n",
    "        print(\"Padded image columns\")\n",
    "        return (np.pad(im,((0,0), (deficit1,deficit2)), 'reflect'), slice(deficit1, -deficit2))\n",
    "        \n",
    "    else:\n",
    "        print(\"Padded image rows\")\n",
    "        return (np.pad(im,((deficit1,deficit2), (0,0)), 'reflect'), slice(deficit1, -deficit2))"
   ]
  },
  {
   "cell_type": "code",
   "execution_count": null,
   "metadata": {},
   "outputs": [],
   "source": [
    "sc = normalise(rgb2gray(io.imread('Luo_edge-preserving_smoothing.png')))\n",
    "plt.figure(figsize=(12, 12))\n",
    "plt.imshow(sc, cmap='gray', interpolation = 'none'), plt.axis('off');"
   ]
  },
  {
   "cell_type": "code",
   "execution_count": null,
   "metadata": {},
   "outputs": [],
   "source": [
    "print (np.shape(sc))\n",
    "print(np.amax(sc))"
   ]
  },
  {
   "cell_type": "code",
   "execution_count": null,
   "metadata": {},
   "outputs": [],
   "source": [
    "test1, slc = pad_next_square_size(sc)"
   ]
  },
  {
   "cell_type": "code",
   "execution_count": null,
   "metadata": {},
   "outputs": [],
   "source": [
    "slc"
   ]
  },
  {
   "cell_type": "code",
   "execution_count": null,
   "metadata": {},
   "outputs": [],
   "source": [
    "A, _ = numpy_fft2(raised_cosine(test1))\n",
    "plt.figure(figsize=(12, 12))\n",
    "plt.imshow(np.log(A +1),  cmap='cubehelix', interpolation = 'none'), plt.axis('off');"
   ]
  },
  {
   "cell_type": "code",
   "execution_count": null,
   "metadata": {},
   "outputs": [],
   "source": [
    "plt.figure(figsize=(12, 12))\n",
    "plt.imshow(test1, cmap='gray', interpolation = 'none'), plt.axis('off');"
   ]
  },
  {
   "cell_type": "code",
   "execution_count": null,
   "metadata": {},
   "outputs": [],
   "source": [
    "A, _ = numpy_fft2(raised_cosine(test1))\n",
    "plt.figure(figsize=(12, 12))\n",
    "plt.imshow(np.log(A +1),  cmap='cubehelix', interpolation = 'none'), plt.axis('off');"
   ]
  },
  {
   "cell_type": "code",
   "execution_count": null,
   "metadata": {
    "collapsed": true
   },
   "outputs": [],
   "source": [
    "Ag = denoise_tv_chambolle(np.log(A +1), weight=0.2)  "
   ]
  },
  {
   "cell_type": "code",
   "execution_count": null,
   "metadata": {},
   "outputs": [],
   "source": [
    "plt.figure(figsize=(12, 12))\n",
    "plt.imshow(Ag,  cmap='cubehelix', interpolation = 'none'), plt.axis('off');"
   ]
  },
  {
   "cell_type": "code",
   "execution_count": null,
   "metadata": {},
   "outputs": [],
   "source": [
    "image_max = ndi.maximum_filter(Ag, footprint = fp, mode='constant')\n",
    "coordinates= peak_local_max(Ag, min_distance=10, num_peaks=5)\n",
    "coordinates_center = peak_local_max(Ag, min_distance=10, num_peaks=1)"
   ]
  },
  {
   "cell_type": "code",
   "execution_count": null,
   "metadata": {},
   "outputs": [],
   "source": [
    "# display results\n",
    "fig, axes = plt.subplots(2, 2, figsize=(24, 24), sharex=True, sharey=True)\n",
    "ax = axes.ravel()\n",
    "ax[0].imshow(Ag, cmap='gray')\n",
    "ax[0].axis('off')\n",
    "ax[0].set_title('Original')\n",
    "\n",
    "ax[1].imshow(image_max, cmap='gray')\n",
    "ax[1].axis('off')\n",
    "ax[1].set_title('Maximum filter')\n",
    "\n",
    "ax[2].imshow(Ag, cmap='gray')\n",
    "ax[2].autoscale(False)\n",
    "ax[2].plot(coordinates_center[:, 1], coordinates_center[:, 0], 'mo')\n",
    "ax[2].axis('off')\n",
    "ax[2].set_title('Peak 1 local maximum')\n",
    "\n",
    "ax[3].imshow(Ag, cmap='gray')\n",
    "ax[3].autoscale(False)\n",
    "ax[3].plot(coordinates[:, 1], coordinates[:, 0], 'mo')\n",
    "ax[3].axis('off')\n",
    "ax[3].set_title('Peak 5 local maxima')\n",
    "\n",
    "fig.tight_layout()\n",
    "\n",
    "plt.show()"
   ]
  },
  {
   "cell_type": "code",
   "execution_count": null,
   "metadata": {},
   "outputs": [],
   "source": [
    "fttt2_im = peak_local_max(Ag, min_distance=10, num_peaks=5, indices = False)*1"
   ]
  },
  {
   "cell_type": "code",
   "execution_count": null,
   "metadata": {},
   "outputs": [],
   "source": [
    "plt.figure(figsize=(12, 12))\n",
    "plt.imshow(fttt2_im,  \n",
    "           cmap='gray', interpolation = 'none'), plt.axis('off');"
   ]
  },
  {
   "cell_type": "code",
   "execution_count": null,
   "metadata": {},
   "outputs": [],
   "source": [
    "fttt2_im_center = peak_local_max(Ag, min_distance=10, num_peaks=1, indices = False)*1\n",
    "fttt2_im_no_center = fttt2_im - fttt2_im_center "
   ]
  },
  {
   "cell_type": "code",
   "execution_count": null,
   "metadata": {},
   "outputs": [],
   "source": [
    "plt.figure(figsize=(12, 12))\n",
    "plt.imshow(fttt2_im_no_center,  \n",
    "           cmap='gray', interpolation = 'none'), plt.axis('off');"
   ]
  },
  {
   "cell_type": "markdown",
   "metadata": {},
   "source": [
    "##### Design footprint suppression filter by convolution with Gaussian disk \n",
    "\n",
    "Using `astropy`:\n",
    "https://docs.astropy.org/en/stable/convolution/kernels.html"
   ]
  },
  {
   "cell_type": "code",
   "execution_count": null,
   "metadata": {},
   "outputs": [],
   "source": [
    "gauss_kernel1 = scipy_gaussian_2D(5)\n",
    "filter1 = signal.fftconvolve(fttt2_im_no_center, gauss_kernel,  mode='same')\n",
    "\n",
    "print (np.amin(filter1))\n",
    "print (np.amax(filter1))\n",
    "\n",
    "filter1=normalise(filter1)\n",
    "print (np.amin(filter1))\n",
    "print (np.amax(filter1))"
   ]
  },
  {
   "cell_type": "code",
   "execution_count": null,
   "metadata": {},
   "outputs": [],
   "source": [
    "plt.figure(figsize=(12, 12))\n",
    "plt.imshow(filter1, cmap='cubehelix', interpolation = 'none'), plt.axis('off');"
   ]
  },
  {
   "cell_type": "code",
   "execution_count": null,
   "metadata": {},
   "outputs": [],
   "source": [
    "plt.figure(figsize=(12, 12))\n",
    "plt.imshow(1-filter1, cmap='gray', interpolation = 'none'), plt.axis('off');"
   ]
  },
  {
   "cell_type": "code",
   "execution_count": null,
   "metadata": {},
   "outputs": [],
   "source": [
    "print (np.shape(test1))\n",
    "print (np.shape(filter1))\n",
    "print (np.shape(Ag))"
   ]
  },
  {
   "cell_type": "markdown",
   "metadata": {},
   "source": [
    "##### Apply filter and view reconstructed image"
   ]
  },
  {
   "cell_type": "code",
   "execution_count": null,
   "metadata": {},
   "outputs": [],
   "source": [
    "def reverse_padding(im, filtered_im, slc):\n",
    "    m, n = np.shape(im) # get input shape\n",
    "     \n",
    "    if m > n:\n",
    "        print(\"Unpadding image columns\")\n",
    "        return filtered_im[:, slc]       \n",
    "    else:\n",
    "        print(\"Unpadding image rows\")\n",
    "        return filtered_im[slc, :]      "
   ]
  },
  {
   "cell_type": "code",
   "execution_count": null,
   "metadata": {},
   "outputs": [],
   "source": [
    "filtered1 = ifft2(np.multiply(ifftshift(1-filter1), fft2(test1.copy()))).real\n",
    "print(np.shape(filtered1))\n",
    "\n",
    "filtered1 = reverse_padding(sc, filtered1, slc)\n",
    "print(np.shape(filtered1))"
   ]
  },
  {
   "cell_type": "code",
   "execution_count": null,
   "metadata": {},
   "outputs": [],
   "source": [
    "compare_ssim(sc, filtered1)"
   ]
  },
  {
   "cell_type": "code",
   "execution_count": null,
   "metadata": {},
   "outputs": [],
   "source": [
    "diff = img_as_float(sc - filtered1)"
   ]
  },
  {
   "cell_type": "code",
   "execution_count": null,
   "metadata": {},
   "outputs": [],
   "source": [
    "# display results\n",
    "fig, axes = plt.subplots(1, 3, figsize=(18, 12), sharex=True, sharey=True)\n",
    "ax = axes.ravel()\n",
    "ax[0].imshow(sc, cmap='gray')\n",
    "ax[0].axis('off')\n",
    "ax[0].set_title('Original')\n",
    "\n",
    "ax[1].imshow(filtered1, cmap='gray')\n",
    "ax[1].axis('off')\n",
    "ax[1].set_title('Filtered')\n",
    "\n",
    "ax[2].imshow(diff, cmap='gray')\n",
    "ax[2].axis('off')\n",
    "ax[2].set_title('Difference')\n",
    "\n",
    "fig.tight_layout()\n",
    "\n",
    "plt.show()\n"
   ]
  },
  {
   "cell_type": "markdown",
   "metadata": {},
   "source": [
    "#### Some open data now"
   ]
  },
  {
   "cell_type": "code",
   "execution_count": null,
   "metadata": {
    "collapsed": true
   },
   "outputs": [],
   "source": [
    "data = np.genfromtxt('F3_demo6_amplitude.txt', delimiter='\\t', usecols=(0, 1, 3))"
   ]
  },
  {
   "cell_type": "code",
   "execution_count": null,
   "metadata": {},
   "outputs": [],
   "source": [
    "inlines = np.amax(data[:,0]).astype(int) - np.amin(data[:,0]).astype(int) + 1\n",
    "xlines = np.amax(data[:,1]).astype(int) - np.amin(data[:,1]).astype(int) + 1\n",
    "\n",
    "print(np.amax(data[:,0]), np.amin(data[:,0]), inlines)\n",
    "print(np.amax(data[:,1]), np.amin(data[:,1]), xlines)\n",
    "\n",
    "data[:,0] = inlines - (data[:,0] - np.amin(data[:,0])) \n",
    "data[:,1] -= 303"
   ]
  },
  {
   "cell_type": "code",
   "execution_count": null,
   "metadata": {},
   "outputs": [],
   "source": [
    "horizon = np.empty((inlines, xlines))\n",
    "\n",
    "for sample in data:\n",
    "    inline = sample[0]\n",
    "    xline = sample[1]\n",
    "    z_value = sample[2]\n",
    "    \n",
    "    # We have to subtract 1 to allow for 0-based indexing\n",
    "    horizon[(inline-1).astype(int), (xline-1).astype(int)] = z_value"
   ]
  },
  {
   "cell_type": "code",
   "execution_count": null,
   "metadata": {},
   "outputs": [],
   "source": [
    "mi = np.amin(horizon)\n",
    "ma = np.amax(horizon)\n",
    "print(mi, ma)"
   ]
  },
  {
   "cell_type": "code",
   "execution_count": null,
   "metadata": {},
   "outputs": [],
   "source": [
    "horizon=normalise(horizon[100::,:])\n",
    "mi = np.amin(horizon)\n",
    "ma = np.amax(horizon)\n",
    "print(mi, ma)"
   ]
  },
  {
   "cell_type": "code",
   "execution_count": null,
   "metadata": {},
   "outputs": [],
   "source": [
    "plt.figure(figsize=(12,12))\n",
    "plt.imshow(horizon, cmap=plt.get_cmap('gray'))\n",
    "plt.show();"
   ]
  },
  {
   "cell_type": "code",
   "execution_count": null,
   "metadata": {},
   "outputs": [],
   "source": [
    "test1, slc = pad_next_square_size(horizon)"
   ]
  },
  {
   "cell_type": "code",
   "execution_count": null,
   "metadata": {},
   "outputs": [],
   "source": [
    "plt.figure(figsize=(12, 12))\n",
    "plt.imshow(test1, cmap='gray', interpolation = 'none'), plt.axis('off');"
   ]
  },
  {
   "cell_type": "code",
   "execution_count": null,
   "metadata": {},
   "outputs": [],
   "source": [
    "A, _ = numpy_fft2(raised_cosine(test1))\n",
    "plt.figure(figsize=(12, 12))\n",
    "plt.imshow(np.log(A +1),  cmap='cubehelix', interpolation = 'none'), plt.axis('off');"
   ]
  },
  {
   "cell_type": "code",
   "execution_count": null,
   "metadata": {
    "collapsed": true
   },
   "outputs": [],
   "source": [
    "Ag = denoise_tv_chambolle(np.log(A +1), weight=0.2)  "
   ]
  },
  {
   "cell_type": "code",
   "execution_count": null,
   "metadata": {},
   "outputs": [],
   "source": [
    "plt.figure(figsize=(12, 12))\n",
    "plt.imshow(Ag,  cmap='cubehelix', interpolation = 'none'), plt.axis('off');"
   ]
  },
  {
   "cell_type": "code",
   "execution_count": null,
   "metadata": {},
   "outputs": [],
   "source": [
    "fp = morph.disk(12)"
   ]
  },
  {
   "cell_type": "code",
   "execution_count": null,
   "metadata": {},
   "outputs": [],
   "source": [
    "image_max = ndi.maximum_filter(Ag, footprint = fp, mode='constant')\n",
    "coordinates= peak_local_max(Ag, min_distance=25, num_peaks=47)\n",
    "coordinates_center = peak_local_max(Ag, min_distance=10, num_peaks=1)"
   ]
  },
  {
   "cell_type": "code",
   "execution_count": null,
   "metadata": {},
   "outputs": [],
   "source": [
    "# display results\n",
    "fig, axes = plt.subplots(2, 2, figsize=(24, 24), sharex=True, sharey=True)\n",
    "ax = axes.ravel()\n",
    "ax[0].imshow(Ag, cmap='gray')\n",
    "ax[0].axis('off')\n",
    "ax[0].set_title('Original')\n",
    "\n",
    "ax[1].imshow(image_max, cmap='gray')\n",
    "ax[1].axis('off')\n",
    "ax[1].set_title('Maximum filter')\n",
    "\n",
    "ax[2].imshow(Ag, cmap='gray')\n",
    "ax[2].autoscale(False)\n",
    "ax[2].plot(coordinates_center[:, 1], coordinates_center[:, 0], 'mo')\n",
    "ax[2].axis('off')\n",
    "ax[2].set_title('Peak 1 local maximum')\n",
    "\n",
    "ax[3].imshow(Ag, cmap='gray')\n",
    "ax[3].autoscale(False)\n",
    "ax[3].plot(coordinates[:, 1], coordinates[:, 0], 'mo')\n",
    "ax[3].axis('off')\n",
    "ax[3].set_title('Peak 21 local maxima')\n",
    "\n",
    "fig.tight_layout()\n",
    "\n",
    "plt.show()\n"
   ]
  },
  {
   "cell_type": "code",
   "execution_count": null,
   "metadata": {},
   "outputs": [],
   "source": [
    "fttt2_im = peak_local_max(Ag, min_distance=25, num_peaks=47)"
   ]
  },
  {
   "cell_type": "code",
   "execution_count": null,
   "metadata": {},
   "outputs": [],
   "source": [
    "plt.figure(figsize =(8,8))\n",
    "plt.axis('off')\n",
    "plt.scatter(fttt2_im[:,1], fttt2_im[:,0]);"
   ]
  },
  {
   "cell_type": "code",
   "execution_count": null,
   "metadata": {},
   "outputs": [],
   "source": [
    "fttt2_im = peak_local_max(Ag, min_distance=25, num_peaks=47, indices = False)*1"
   ]
  },
  {
   "cell_type": "code",
   "execution_count": null,
   "metadata": {},
   "outputs": [],
   "source": [
    "plt.figure(figsize=(12, 12))\n",
    "plt.imshow(fttt2_im, cmap='gray', interpolation='None')\n",
    "plt.autoscale(False)\n",
    "plt.axis('off')"
   ]
  },
  {
   "cell_type": "code",
   "execution_count": null,
   "metadata": {},
   "outputs": [],
   "source": [
    "fttt2_im_center = peak_local_max(Ag, min_distance=10, num_peaks=1, indices = False)*1\n",
    "fttt2_im_no_center = fttt2_im - fttt2_im_center "
   ]
  },
  {
   "cell_type": "code",
   "execution_count": null,
   "metadata": {},
   "outputs": [],
   "source": [
    "plt.figure(figsize=(12, 12))\n",
    "plt.imshow(fttt2_im_no_center,  \n",
    "           cmap='gray', interpolation = 'none'), plt.axis('off');"
   ]
  },
  {
   "cell_type": "markdown",
   "metadata": {},
   "source": [
    "#### Design footprint suppression filter by convolution with Gaussian disk "
   ]
  },
  {
   "cell_type": "code",
   "execution_count": null,
   "metadata": {},
   "outputs": [],
   "source": [
    "gauss_kernel1 = scipy_gaussian_2D(5)\n",
    "filter1 = signal.fftconvolve(fttt2_im_no_center, gauss_kernel1, mode='same')\n",
    "test, gauss_kernel\n",
    "print (np.amin(filter1))\n",
    "print (np.amax(filter1))\n",
    "\n",
    "filter1=normalise(filter1)\n",
    "print (np.amin(filter1))\n",
    "print (np.amax(filter1))"
   ]
  },
  {
   "cell_type": "code",
   "execution_count": null,
   "metadata": {},
   "outputs": [],
   "source": [
    "plt.figure(figsize=(12, 12))\n",
    "plt.imshow(filter1, cmap='cubehelix', interpolation = 'none'), plt.axis('off');"
   ]
  },
  {
   "cell_type": "code",
   "execution_count": null,
   "metadata": {},
   "outputs": [],
   "source": [
    "plt.figure(figsize=(12, 12))\n",
    "plt.imshow(1-filter1, cmap='gray', interpolation = 'none'), plt.axis('off');"
   ]
  },
  {
   "cell_type": "code",
   "execution_count": null,
   "metadata": {},
   "outputs": [],
   "source": [
    "plt.figure(figsize=(12, 12))\n",
    "plt.imshow(Ag, cmap='cubehelix', interpolation = 'none')\n",
    "plt.imshow(1-filter1, cmap='gray', interpolation = 'none', alpha=0.2), plt.axis('off');"
   ]
  },
  {
   "cell_type": "markdown",
   "metadata": {},
   "source": [
    "##### Apply filter and view reconstructed image"
   ]
  },
  {
   "cell_type": "code",
   "execution_count": null,
   "metadata": {},
   "outputs": [],
   "source": [
    "filtered1 = ifft2(np.multiply(ifftshift(1-filter1), fft2(test1.copy()))).real\n",
    "print(np.shape(filtered1))\n",
    "filtered1 = reverse_padding(horizon, filtered1, slc)\n",
    "print(np.shape(filtered1))"
   ]
  },
  {
   "cell_type": "code",
   "execution_count": null,
   "metadata": {},
   "outputs": [],
   "source": [
    "print(np.shape(horizon))"
   ]
  },
  {
   "cell_type": "code",
   "execution_count": null,
   "metadata": {},
   "outputs": [],
   "source": [
    "compare_ssim(horizon, filtered1)"
   ]
  },
  {
   "cell_type": "code",
   "execution_count": null,
   "metadata": {},
   "outputs": [],
   "source": [
    "diff = img_as_float(horizon - filtered1)"
   ]
  },
  {
   "cell_type": "markdown",
   "metadata": {},
   "source": [
    "#### Custom exponential grayscale\n",
    "From my repository [Reproducing an exponential grayscale cmap](https://github.com/mycarta/Reproducing-exponential-grayscale-cmap)."
   ]
  },
  {
   "cell_type": "code",
   "execution_count": null,
   "metadata": {
    "collapsed": false
   },
   "outputs": [],
   "source": [
    "# EXPONENTIAL FUNCTION\n",
    "def expo(x,a,b):\n",
    "    y = np.array(1-(np.exp(1-(a*x))/b))\n",
    "    return 100.0*(y-min(y))/(max(y)-min(y)) "
   ]
  },
  {
   "cell_type": "code",
   "execution_count": null,
   "metadata": {},
   "outputs": [],
   "source": [
    "import skimage.color as skl"
   ]
  },
  {
   "cell_type": "code",
   "execution_count": null,
   "metadata": {
    "collapsed": false
   },
   "outputs": [],
   "source": [
    "x = np.linspace(0,255,256)\n",
    "y1 = expo(x,0.007,2.5)\n",
    "lexp256 = np.tile(y1, (256,1))\n",
    "lexp256.shape"
   ]
  },
  {
   "cell_type": "code",
   "execution_count": null,
   "metadata": {
    "collapsed": false
   },
   "outputs": [],
   "source": [
    "lexp256 = np.tile(y1, (256,1))\n",
    "lexp256.shape"
   ]
  },
  {
   "cell_type": "code",
   "execution_count": null,
   "metadata": {
    "collapsed": false
   },
   "outputs": [],
   "source": [
    "aexp256 = np.zeros((256,256))\n",
    "bexp256 = np.zeros((256,256))\n",
    "aexp256.shape"
   ]
  },
  {
   "cell_type": "code",
   "execution_count": null,
   "metadata": {
    "collapsed": false
   },
   "outputs": [],
   "source": [
    "lab_exp256 = np.array(list(zip(lexp256, aexp256, bexp256)))\n",
    "lab_exp256.shape "
   ]
  },
  {
   "cell_type": "code",
   "execution_count": null,
   "metadata": {
    "collapsed": false
   },
   "outputs": [],
   "source": [
    "lab_exponential256 = np.swapaxes(lab_exp256,1,2)\n",
    "lab_exponential256.shape"
   ]
  },
  {
   "cell_type": "code",
   "execution_count": null,
   "metadata": {
    "collapsed": false
   },
   "outputs": [],
   "source": [
    "rgb_exponential256 = skl.lab2rgb(lab_exponential256)\n",
    "rgb_exponential256.shape"
   ]
  },
  {
   "cell_type": "code",
   "execution_count": null,
   "metadata": {
    "collapsed": false
   },
   "outputs": [],
   "source": [
    "l_exp = lab_exponential256[0,:,0]\n",
    "r_exp = rgb_exponential256[0,:,0]\n",
    "g_exp = rgb_exponential256[0,:,1]\n",
    "b_exp = rgb_exponential256[0,:,2]"
   ]
  },
  {
   "cell_type": "code",
   "execution_count": null,
   "metadata": {
    "collapsed": false
   },
   "outputs": [],
   "source": [
    "# sample 256 not perfectly 1. Normalizing y to [0-1]\n",
    "normr_exp=(r_exp-min(r_exp))/(max(r_exp)-min(r_exp))\n",
    "normg_exp=(g_exp-min(g_exp))/(max(g_exp)-min(g_exp))\n",
    "normb_exp=(b_exp-min(b_exp))/(max(b_exp)-min(b_exp))"
   ]
  },
  {
   "cell_type": "code",
   "execution_count": null,
   "metadata": {
    "collapsed": false
   },
   "outputs": [],
   "source": [
    "b3=normb_exp # value of blue at sample n\n",
    "b2=normb_exp # value of blue at sample n\n",
    "b1=np.linspace(0,1,len(b2)) # position of sample n - ranges from 0 to 1\n",
    "\n",
    "g3=normg_exp \n",
    "g2=normg_exp\n",
    "g1=np.linspace(0,1,len(g2))\n",
    "\n",
    "r3=normr_exp \n",
    "r2=normr_exp\n",
    "r1=np.linspace(0,1,len(r2))\n",
    "\n",
    "# creating lists\n",
    "r=zip(r1,r2,r3)\n",
    "g=zip(g1,g2,g3)\n",
    "b=zip(b1,b2,b3)\n",
    "\n",
    "# transposing\n",
    "rgb_=zip(r,g,b)\n",
    "rgb=zip(*rgb_)\n",
    "#print rgb\n",
    "\n",
    "#creating dictionary\n",
    "k=['red', 'green', 'blue'] \n",
    "exponential_gray=dict(zip(k,rgb)) # makes a dictionary from 2 lists"
   ]
  },
  {
   "cell_type": "code",
   "execution_count": null,
   "metadata": {
    "collapsed": false
   },
   "outputs": [],
   "source": [
    "my_exp_cmap = clr.LinearSegmentedColormap('my_colormap', exponential_gray)"
   ]
  },
  {
   "cell_type": "code",
   "execution_count": null,
   "metadata": {},
   "outputs": [],
   "source": [
    "# display results\n",
    "fig, axes = plt.subplots(3, 1, figsize=(24, 20), sharex=True, sharey=True)\n",
    "ax = axes.ravel()\n",
    "ax[0].imshow(horizon, vmin = 0.25, vmax = 0.75, cmap=my_exp_cmap)\n",
    "ax[0].axis('off')\n",
    "ax[0].set_title('Original', fontsize=20)\n",
    "\n",
    "ax[1].imshow(filtered1, vmin = 0.25, vmax = 0.75, cmap=my_exp_cmap)\n",
    "ax[1].axis('off')\n",
    "ax[1].set_title('Filtered', fontsize=20)\n",
    "\n",
    "ax[2].imshow(diff,  vmin = np.amin(diff)/2, vmax = -np.amin(diff)/2, cmap='gray')\n",
    "ax[2].axis('off')\n",
    "ax[2].set_title('Difference', fontsize=20)\n",
    "\n",
    "fig.tight_layout()\n",
    "\n",
    "plt.show()"
   ]
  },
  {
   "cell_type": "markdown",
   "metadata": {},
   "source": [
    "#### First ever newspaper photo printed using a halftone screen \n",
    "\n",
    "##### A Scene in Shantytown, March 1880\n",
    "\n",
    "Source: http://www.sfu.ca/humanities-institute/contours/issue8/theory/5.html\n",
    "\n",
    "Image file: http://www.sfu.ca/content/dam/sfu/humanities-institute/Images/contours/issue8/FIG%2010.2_A-SCENE-IN-SHANTYTOWN.jpg\n",
    "\n",
    "History: https://en.wikipedia.org/wiki/The_Daily_Graphic#History"
   ]
  },
  {
   "cell_type": "code",
   "execution_count": null,
   "metadata": {
    "collapsed": true
   },
   "outputs": [],
   "source": [
    "data = normalise(rgb2gray(io.imread('Scene_Shantytown_Horgan.jpg')))\n",
    "print(np.shape(data), np.amin(data), np.amax(data))"
   ]
  },
  {
   "cell_type": "code",
   "execution_count": null,
   "metadata": {},
   "outputs": [],
   "source": [
    "#data=data[50:-120, 50:-40]"
   ]
  },
  {
   "cell_type": "code",
   "execution_count": null,
   "metadata": {},
   "outputs": [],
   "source": [
    "plt.figure(figsize=(15,12))\n",
    "plt.imshow(data, cmap='bone'), plt.axis('off'); "
   ]
  },
  {
   "cell_type": "code",
   "execution_count": null,
   "metadata": {},
   "outputs": [],
   "source": [
    "sc = normalise(data)"
   ]
  },
  {
   "cell_type": "code",
   "execution_count": null,
   "metadata": {},
   "outputs": [],
   "source": [
    "test1, slc = pad_next_square_size(sc)"
   ]
  },
  {
   "cell_type": "code",
   "execution_count": null,
   "metadata": {},
   "outputs": [],
   "source": [
    "A, _ = numpy_fft2(raised_cosine(test1))"
   ]
  },
  {
   "cell_type": "code",
   "execution_count": null,
   "metadata": {
    "collapsed": true
   },
   "outputs": [],
   "source": [
    "Ag = denoise_tv_chambolle(np.log(A +1), weight=0.2)  "
   ]
  },
  {
   "cell_type": "code",
   "execution_count": null,
   "metadata": {},
   "outputs": [],
   "source": [
    "plt.figure(figsize=(12, 12))\n",
    "plt.imshow(Ag,  cmap='cubehelix', interpolation = 'none'), plt.axis('off');"
   ]
  },
  {
   "cell_type": "markdown",
   "metadata": {},
   "source": [
    "#### Stacking rows to get thos maxima"
   ]
  },
  {
   "cell_type": "code",
   "execution_count": null,
   "metadata": {},
   "outputs": [],
   "source": [
    "stack_rows = np.sum(Ag, axis=0)"
   ]
  },
  {
   "cell_type": "code",
   "execution_count": null,
   "metadata": {},
   "outputs": [],
   "source": [
    "plt.figure(figsize=(12, 6))\n",
    "plt.plot(stack_rows, 'r')\n",
    "plt.yticks([])\n",
    "plt.show()"
   ]
  },
  {
   "cell_type": "code",
   "execution_count": null,
   "metadata": {},
   "outputs": [],
   "source": [
    "multiplicity = 2 # number of expected peaks except for central\n",
    "\n",
    "indexes, _ = signal.find_peaks(stack_rows, distance = len(stack_rows)/(2*multiplicity))\n",
    "indexes = np.delete(indexes, len(indexes)//2)"
   ]
  },
  {
   "cell_type": "code",
   "execution_count": null,
   "metadata": {},
   "outputs": [],
   "source": [
    "test = np.zeros(np.shape(Ag))\n",
    "rr, cc = ellipse(np.shape(Ag)[0]//2, indexes[0], 21, 21)\n",
    "rr1, cc1 = ellipse(np.shape(Ag)[0]//2, indexes[-1], 21, 21)\n",
    "test[rr, cc] = 1\n",
    "test[rr1, cc1] = 1"
   ]
  },
  {
   "cell_type": "code",
   "execution_count": null,
   "metadata": {},
   "outputs": [],
   "source": [
    "plt.figure(figsize=(12, 12))\n",
    "plt.imshow(test,  \n",
    "           cmap='gray', interpolation = 'none'), plt.axis('off');"
   ]
  },
  {
   "cell_type": "code",
   "execution_count": null,
   "metadata": {},
   "outputs": [],
   "source": [
    "gauss_kernel = scipy_gaussian_2D(15)\n",
    "filter00 = signal.fftconvolve(test, gauss_kernel, mode='same')\n",
    "filter00 = normalise(filter00)"
   ]
  },
  {
   "cell_type": "code",
   "execution_count": null,
   "metadata": {},
   "outputs": [],
   "source": [
    "plt.figure(figsize=(12, 12))\n",
    "plt.imshow(1-filter00, cmap='gray', interpolation = 'none'), plt.axis('off');"
   ]
  },
  {
   "cell_type": "code",
   "execution_count": null,
   "metadata": {},
   "outputs": [],
   "source": [
    "filtered1 = ifft2(np.multiply(ifftshift(1-filter00), fft2(test1.copy()))).real\n",
    "print(np.shape(filtered1))\n",
    "\n",
    "filtered1 = reverse_padding(sc, filtered1, slc)\n",
    "print(np.shape(filtered1))"
   ]
  },
  {
   "cell_type": "code",
   "execution_count": null,
   "metadata": {},
   "outputs": [],
   "source": [
    "compare_ssim(sc, filtered1)"
   ]
  },
  {
   "cell_type": "code",
   "execution_count": null,
   "metadata": {},
   "outputs": [],
   "source": [
    "diff = img_as_float(sc - filtered1)"
   ]
  },
  {
   "cell_type": "code",
   "execution_count": null,
   "metadata": {},
   "outputs": [],
   "source": [
    "# display results\n",
    "fig, axes = plt.subplots(3, 1, figsize=(16, 24), sharex=True, sharey=True)\n",
    "ax = axes.ravel()\n",
    "ax[0].imshow(sc, cmap='gray')\n",
    "ax[0].axis('off')\n",
    "ax[0].set_title('Original')\n",
    "\n",
    "ax[1].imshow(filtered1, cmap='gray')\n",
    "ax[1].axis('off')\n",
    "ax[1].set_title('Filtered')\n",
    "\n",
    "ax[2].imshow(diff, cmap='gray')\n",
    "ax[2].axis('off')\n",
    "ax[2].set_title('Difference')\n",
    "\n",
    "fig.tight_layout()\n",
    "plt.show()"
   ]
  },
  {
   "cell_type": "code",
   "execution_count": null,
   "metadata": {},
   "outputs": [],
   "source": []
  },
  {
   "cell_type": "code",
   "execution_count": null,
   "metadata": {},
   "outputs": [],
   "source": []
  }
 ],
 "metadata": {
  "anaconda-cloud": {},
  "kernelspec": {
   "display_name": "py36",
   "language": "python",
   "name": "conda-env-py36-py"
  },
  "language_info": {
   "codemirror_mode": {
    "name": "ipython",
    "version": 3
   },
   "file_extension": ".py",
   "mimetype": "text/x-python",
   "name": "python",
   "nbconvert_exporter": "python",
   "pygments_lexer": "ipython3",
   "version": "3.6.8"
  }
 },
 "nbformat": 4,
 "nbformat_minor": 2
}
